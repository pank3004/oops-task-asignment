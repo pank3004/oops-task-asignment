{
 "cells": [
  {
   "cell_type": "code",
   "execution_count": null,
   "id": "5182f67f-20e3-4ba4-9c7c-22c3a372ba17",
   "metadata": {},
   "outputs": [],
   "source": [
    "'''Q1, Create a vehicle class with an init method having instance variables as name_of_vehicle, max_speed\n",
    "   and average_of_vehicle.'''"
   ]
  },
  {
   "cell_type": "code",
   "execution_count": 5,
   "id": "d997ce90-c5ea-4b20-b54d-e787669e7701",
   "metadata": {},
   "outputs": [],
   "source": [
    "class vehicle: \n",
    "    def __init__(self,name_of_vehicle, max_speed, avg_speed_of_vehicle):\n",
    "        self.name_of_vehicle=name_of_vehicle\n",
    "        self.max_speed=max_speed\n",
    "        self.avg_speed_of_vehicle=avg_speed_of_vehicle\n",
    "        "
   ]
  },
  {
   "cell_type": "code",
   "execution_count": 6,
   "id": "2c4500f4-aa37-4bc5-bb89-13e86719bff8",
   "metadata": {},
   "outputs": [],
   "source": [
    "result=vehicle('THAR', 150, 90)"
   ]
  },
  {
   "cell_type": "code",
   "execution_count": 7,
   "id": "24204800-e8a7-4a9c-a066-dc2445bc9588",
   "metadata": {},
   "outputs": [
    {
     "data": {
      "text/plain": [
       "150"
      ]
     },
     "execution_count": 7,
     "metadata": {},
     "output_type": "execute_result"
    }
   ],
   "source": [
    "result.max_speed"
   ]
  },
  {
   "cell_type": "code",
   "execution_count": 8,
   "id": "f7ddbe85-fd33-433b-8296-ab60902bb13a",
   "metadata": {},
   "outputs": [
    {
     "data": {
      "text/plain": [
       "'THAR'"
      ]
     },
     "execution_count": 8,
     "metadata": {},
     "output_type": "execute_result"
    }
   ],
   "source": [
    "result.name_of_vehicle"
   ]
  },
  {
   "cell_type": "code",
   "execution_count": 9,
   "id": "605b5095-20c1-47ad-b4c2-03092d90e1f8",
   "metadata": {},
   "outputs": [
    {
     "data": {
      "text/plain": [
       "90"
      ]
     },
     "execution_count": 9,
     "metadata": {},
     "output_type": "execute_result"
    }
   ],
   "source": [
    "result.avg_speed_of_vehicle"
   ]
  },
  {
   "cell_type": "code",
   "execution_count": null,
   "id": "7e118b3f-2566-41a0-93de-04cdb27975a4",
   "metadata": {},
   "outputs": [],
   "source": [
    "'''Q2. Create a child class car from the vehicle class created in Que 1, which will inherit the vehicle class.\n",
    "   Create a method named seating_capacity which takes capacity as an argument and returns the name of\n",
    "   the vehicle and its seating capacity.''"
   ]
  },
  {
   "cell_type": "code",
   "execution_count": 21,
   "id": "a24fcbda-5751-4472-9900-00e1d2051c9f",
   "metadata": {},
   "outputs": [],
   "source": [
    "class child_car(vehicle): \n",
    "    def seating_capacity(self,arg): \n",
    "        self.arg=arg\n",
    "        return self.name_of_vehicle, self.arg"
   ]
  },
  {
   "cell_type": "code",
   "execution_count": 22,
   "id": "4c263ae3-955d-4cac-9049-4f8e3e4d5a2d",
   "metadata": {},
   "outputs": [],
   "source": [
    "result2=child_car('THAR', 300,90)"
   ]
  },
  {
   "cell_type": "code",
   "execution_count": 23,
   "id": "68c2e99d-31c4-4a41-8611-d514cd070a5c",
   "metadata": {},
   "outputs": [
    {
     "data": {
      "text/plain": [
       "('THAR', 9)"
      ]
     },
     "execution_count": 23,
     "metadata": {},
     "output_type": "execute_result"
    }
   ],
   "source": [
    "result2.seating_capacity(9)"
   ]
  },
  {
   "cell_type": "code",
   "execution_count": null,
   "id": "02858522-9924-415c-87d7-5505a0904b43",
   "metadata": {},
   "outputs": [],
   "source": [
    "'''Q3. What is multiple inheritance? Write a python code to demonstrate multiple inheritance.'''"
   ]
  },
  {
   "cell_type": "code",
   "execution_count": 33,
   "id": "410bd07d-b6ff-4f5f-a64f-e25586d6e390",
   "metadata": {},
   "outputs": [],
   "source": [
    "# multiple inheritance: two separate independent class inherite in the new independent class\n",
    "\n",
    "class class_1: \n",
    "    def class_1_method(self): \n",
    "        return 'this is method of first class'\n",
    "    \n",
    "class class_2:  \n",
    "        def class_2_method(self):\n",
    "            return 'this is method of first class'\n",
    "        \n",
    "class class_child(class_1, class_2):\n",
    "    def class_child_method(self): \n",
    "        return 'this combined method of class 1 and 2'"
   ]
  },
  {
   "cell_type": "code",
   "execution_count": 33,
   "id": "87f0bc3c-46ea-4f85-b6b6-97b2c6ab965d",
   "metadata": {},
   "outputs": [
    {
     "data": {
      "text/plain": [
       "'this combined method of class 1 and 2'"
      ]
     },
     "execution_count": 33,
     "metadata": {},
     "output_type": "execute_result"
    }
   ],
   "source": [
    "system=class_child()"
   ]
  },
  {
   "cell_type": "code",
   "execution_count": 34,
   "id": "66c96c1c-418c-45e0-9c8e-6a6ec240ba95",
   "metadata": {},
   "outputs": [
    {
     "data": {
      "text/plain": [
       "'this is method of first class'"
      ]
     },
     "execution_count": 34,
     "metadata": {},
     "output_type": "execute_result"
    }
   ],
   "source": [
    "system.class_1_method()"
   ]
  },
  {
   "cell_type": "code",
   "execution_count": 36,
   "id": "10d9097d-83cd-4094-a6d3-061ea4ff26bb",
   "metadata": {},
   "outputs": [
    {
     "data": {
      "text/plain": [
       "'this is method of first class'"
      ]
     },
     "execution_count": 36,
     "metadata": {},
     "output_type": "execute_result"
    }
   ],
   "source": [
    "system.class_2_method()"
   ]
  },
  {
   "cell_type": "code",
   "execution_count": 37,
   "id": "9909114c-a626-4b04-bebc-366664266955",
   "metadata": {},
   "outputs": [
    {
     "data": {
      "text/plain": [
       "'this combined method of class 1 and 2'"
      ]
     },
     "execution_count": 37,
     "metadata": {},
     "output_type": "execute_result"
    }
   ],
   "source": [
    "system.class_child_method()"
   ]
  },
  {
   "cell_type": "code",
   "execution_count": null,
   "id": "446d5270-8e38-4ccd-b108-5564255c3112",
   "metadata": {},
   "outputs": [],
   "source": [
    "'''Q4. What are getter and setter in python? Create a class and create a getter and a setter method in this\n",
    "   class.'''"
   ]
  },
  {
   "cell_type": "code",
   "execution_count": 44,
   "id": "fa3ec669-29a5-4731-9eb1-a118b07fd272",
   "metadata": {},
   "outputs": [],
   "source": [
    "class arya_collage: \n",
    "    def __init__(self, course_name, fees_prize): \n",
    "        self.course_name=course_name\n",
    "        self.__fees_prize=fees_prize      # __ denotes as a privet attributes ,,we can't access by directly object method\n",
    "        \n",
    "    @property                              \n",
    "    def fees_prize_access(self):          # this is getter\n",
    "        return self.__fees_prize\n",
    "    \n",
    "    @fees_prize_access.setter\n",
    "    def fees_prize_set(self, prize):      # this is setter\n",
    "        if prize <=9600: \n",
    "            pass\n",
    "        else: \n",
    "            self.__fees_prize=prize"
   ]
  },
  {
   "cell_type": "code",
   "execution_count": 45,
   "id": "cddb43ce-a2ca-4fc8-a17e-d8652c6438a0",
   "metadata": {},
   "outputs": [],
   "source": [
    "aiet=arya_collage('Btech', 96000)"
   ]
  },
  {
   "cell_type": "code",
   "execution_count": 37,
   "id": "2ff9b061-d869-4bad-be01-1f55e8c7183c",
   "metadata": {},
   "outputs": [
    {
     "data": {
      "text/plain": [
       "'Btech'"
      ]
     },
     "execution_count": 37,
     "metadata": {},
     "output_type": "execute_result"
    }
   ],
   "source": [
    "aiet.course_name"
   ]
  },
  {
   "cell_type": "code",
   "execution_count": 46,
   "id": "be4e41fc-db19-4566-8c55-3c7789a5f88d",
   "metadata": {},
   "outputs": [
    {
     "data": {
      "text/plain": [
       "96000"
      ]
     },
     "execution_count": 46,
     "metadata": {},
     "output_type": "execute_result"
    }
   ],
   "source": [
    "aiet.fees_prize_access"
   ]
  },
  {
   "cell_type": "code",
   "execution_count": 47,
   "id": "f6e7dcde-da89-48fc-8911-a69d7c67fe73",
   "metadata": {},
   "outputs": [],
   "source": [
    "aiet.fees_prize_set=99800"
   ]
  },
  {
   "cell_type": "code",
   "execution_count": 48,
   "id": "844bd763-80e6-4898-8e66-936e6cd107c6",
   "metadata": {},
   "outputs": [
    {
     "data": {
      "text/plain": [
       "99800"
      ]
     },
     "execution_count": 48,
     "metadata": {},
     "output_type": "execute_result"
    }
   ],
   "source": [
    "aiet.fees_prize_access"
   ]
  },
  {
   "cell_type": "code",
   "execution_count": null,
   "id": "9cb1ff9c-04ff-4ecd-ba71-973e493239b0",
   "metadata": {},
   "outputs": [],
   "source": [
    "'''Q5.What is method overriding in python? Write a python code to demonstrate method overriding.'''"
   ]
  },
  {
   "cell_type": "code",
   "execution_count": 56,
   "id": "f2656a75-7ecb-43c9-a6e9-56dfd3f8e013",
   "metadata": {},
   "outputs": [],
   "source": [
    "'''What is Method Overriding in Python?\n",
    "   (Multilevel inheritance):\n",
    "   \n",
    "   Method overriding is a feature of object-oriented programming languages where the subclass or child class can provide the \n",
    "   program with specific characteristics or a specific implementation process of data provided that are already defined in \n",
    "   the parent class or superclass.'''\n",
    "\n",
    "\n",
    "class parent_class: \n",
    "    \n",
    "    def parent_method(self): \n",
    "        return 'this is my parent class'\n",
    "    \n",
    "class child_class(parent_class): \n",
    "    \n",
    "    def child_method(self):\n",
    "        return 'this is my chil class'"
   ]
  },
  {
   "cell_type": "code",
   "execution_count": 59,
   "id": "bb2ee63b-e630-4e91-854c-a6ef678ab939",
   "metadata": {},
   "outputs": [],
   "source": [
    "child_obj=child_class()"
   ]
  },
  {
   "cell_type": "code",
   "execution_count": 60,
   "id": "09234ddb-a0bc-4262-bbda-e99d576f9a0b",
   "metadata": {},
   "outputs": [
    {
     "data": {
      "text/plain": [
       "'this is my chil class'"
      ]
     },
     "execution_count": 60,
     "metadata": {},
     "output_type": "execute_result"
    }
   ],
   "source": [
    "child_obj.child_method()"
   ]
  },
  {
   "cell_type": "code",
   "execution_count": 62,
   "id": "438aa517-3bb3-4cc4-9b72-bae3e6e5e60b",
   "metadata": {},
   "outputs": [
    {
     "data": {
      "text/plain": [
       "'this is my parent class'"
      ]
     },
     "execution_count": 62,
     "metadata": {},
     "output_type": "execute_result"
    }
   ],
   "source": [
    "child_obj.parent_method()"
   ]
  },
  {
   "cell_type": "code",
   "execution_count": null,
   "id": "cd7ea9d1-ce88-4bff-a716-ff5b9f4e1aa3",
   "metadata": {},
   "outputs": [],
   "source": []
  }
 ],
 "metadata": {
  "kernelspec": {
   "display_name": "Python 3 (ipykernel)",
   "language": "python",
   "name": "python3"
  },
  "language_info": {
   "codemirror_mode": {
    "name": "ipython",
    "version": 3
   },
   "file_extension": ".py",
   "mimetype": "text/x-python",
   "name": "python",
   "nbconvert_exporter": "python",
   "pygments_lexer": "ipython3",
   "version": "3.10.8"
  }
 },
 "nbformat": 4,
 "nbformat_minor": 5
}
